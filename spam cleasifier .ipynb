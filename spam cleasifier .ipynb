{
 "cells": [
  {
   "cell_type": "code",
   "execution_count": null,
   "id": "109aba64-0162-4df3-9af9-8142ee4d5084",
   "metadata": {},
   "outputs": [],
   "source": [
    "# 1. Import Libraries\n",
    "import pandas as pd\n",
    "import numpy as np\n",
    "from sklearn.model_selection import train_test_split\n",
    "from sklearn.feature_extraction.text import CountVectorizer\n",
    "from sklearn.naive_bayes import MultinomialNB\n",
    "from sklearn.metrics import accuracy_score, confusion_matrix, classification_report \n",
    "import os\n",
    "print(os.getcwd())"
   ]
  },
  {
   "cell_type": "code",
   "execution_count": null,
   "id": "3bed3bfb-63d7-4179-b859-cf61847ca212",
   "metadata": {},
   "outputs": [],
   "source": [
    "# 2. Load Dataset (correct for tab-separated file)\n",
    "df_raw = pd.read_csv('spam.csv', encoding='latin-1', sep='\\t', header=None)\n",
    "\n",
    "# Rename columns for clarity\n",
    "df_raw.columns = ['label', 'message']\n",
    "\n",
    "# Preview the data\n",
    "print(df_raw.head())\n",
    "print(df_raw.columns)\n",
    "\n"
   ]
  },
  {
   "cell_type": "code",
   "execution_count": null,
   "id": "e05bfba9-73e5-45f5-a655-33cb7ece2b93",
   "metadata": {},
   "outputs": [],
   "source": [
    "#Check the distribution of spam vs ham messages\n",
    "print(df_raw['label'].value_counts())"
   ]
  },
  {
   "cell_type": "code",
   "execution_count": null,
   "id": "71752daf-6c54-4ced-96f1-8f8289f50fb5",
   "metadata": {},
   "outputs": [],
   "source": [
    "#Split your data into features and labels\n",
    "X = df_raw['message']  # Text messages\n",
    "y = df_raw['label']    # Labels: spam or ham\n",
    "\n"
   ]
  },
  {
   "cell_type": "code",
   "execution_count": null,
   "id": "ef9b58ff-66e4-4814-92c8-4be2bf072a42",
   "metadata": {},
   "outputs": [],
   "source": [
    "# Split dataset into training and testing sets\n",
    "from sklearn.model_selection import train_test_split\n",
    "\n",
    "X_train, X_test, y_train, y_test = train_test_split(\n",
    "    X, y, test_size=0.2, random_state=42)\n"
   ]
  },
  {
   "cell_type": "code",
   "execution_count": null,
   "id": "78999c43-d2a8-4468-af80-2ae0402746a0",
   "metadata": {},
   "outputs": [],
   "source": [
    "#Vectorize the text data (convert text messages into numeric features)\n",
    "from sklearn.feature_extraction.text import CountVectorizer\n",
    "\n",
    "vectorizer = CountVectorizer()\n",
    "X_train_vec = vectorizer.fit_transform(X_train)  # Fit on train data and transform\n",
    "X_test_vec = vectorizer.transform(X_test)        # Only transform test data\n"
   ]
  },
  {
   "cell_type": "code",
   "execution_count": null,
   "id": "051fcee0-0fb2-4ed0-b943-534520bf97f1",
   "metadata": {},
   "outputs": [],
   "source": [
    "#Train a classifier (Naive Bayes is common for spam detection)\n",
    "from sklearn.naive_bayes import MultinomialNB\n",
    "\n",
    "model = MultinomialNB()\n",
    "model.fit(X_train_vec, y_train)\n",
    "\n"
   ]
  },
  {
   "cell_type": "code",
   "execution_count": null,
   "id": "21ee3fd6-735d-424a-a492-10f760d54de2",
   "metadata": {},
   "outputs": [],
   "source": [
    "#Make predictions on test data\n",
    "y_pred = model.predict(X_test_vec)\n"
   ]
  },
  {
   "cell_type": "code",
   "execution_count": null,
   "id": "582d4819-d58d-43b9-bd01-fec2f1361742",
   "metadata": {},
   "outputs": [],
   "source": [
    "from sklearn.metrics import accuracy_score, confusion_matrix, classification_report\n",
    "\n",
    "# Predict on the test set\n",
    "y_pred = model.predict(X_test_vec)\n",
    "\n",
    "# Evaluate the model performance\n",
    "print(\"Accuracy:\", accuracy_score(y_test, y_pred))\n",
    "print(\"Confusion Matrix:\\n\", confusion_matrix(y_test, y_pred))\n",
    "print(\"Classification Report:\\n\", classification_report(y_test, y_pred))\n"
   ]
  },
  {
   "cell_type": "code",
   "execution_count": null,
   "id": "39829c04-be5b-4ce9-aad7-90c381b15268",
   "metadata": {},
   "outputs": [],
   "source": [
    "# 9. Save the model and vectorizer\n",
    "joblib.dump(model, \"spam_classifier.pkl\")\n",
    "joblib.dump(vectorizer, \"vectorizer.pkl\")"
   ]
  },
  {
   "cell_type": "code",
   "execution_count": null,
   "id": "9656bba9-f720-41e7-84cc-4b4fa5d55b02",
   "metadata": {},
   "outputs": [],
   "source": [
    "# 10. Load model and vectorizer for prediction (example)\n",
    "loaded_model = joblib.load(\"spam_classifier.pkl\")\n",
    "loaded_vectorizer = joblib.load(\"vectorizer.pkl\")"
   ]
  },
  {
   "cell_type": "code",
   "execution_count": null,
   "id": "b1005ed8-2214-428f-a8bb-a0aea2998417",
   "metadata": {},
   "outputs": [],
   "source": [
    "# Example prediction on new messages\n",
    "new_messages = [\"Congratulations! You've won a prize!\", \"Hey, are we meeting today?\"]\n",
    "new_messages_vec = loaded_vectorizer.transform(new_messages)\n",
    "predictions = loaded_model.predict(new_messages_vec)\n",
    "print(\"Predictions for new messages:\", predictions)"
   ]
  },
  {
   "cell_type": "code",
   "execution_count": null,
   "id": "0b6c0916-87a9-4a72-9c51-ce29de637845",
   "metadata": {},
   "outputs": [],
   "source": []
  }
 ],
 "metadata": {
  "kernelspec": {
   "display_name": "Python 3 (ipykernel)",
   "language": "python",
   "name": "python3"
  },
  "language_info": {
   "codemirror_mode": {
    "name": "ipython",
    "version": 3
   },
   "file_extension": ".py",
   "mimetype": "text/x-python",
   "name": "python",
   "nbconvert_exporter": "python",
   "pygments_lexer": "ipython3",
   "version": "3.9.6"
  }
 },
 "nbformat": 4,
 "nbformat_minor": 5
}
